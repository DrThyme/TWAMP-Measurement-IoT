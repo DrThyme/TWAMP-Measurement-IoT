{
 "cells": [
  {
   "cell_type": "markdown",
   "metadata": {},
   "source": [
    "# TWAMP EXPERIMENTS"
   ]
  },
  {
   "cell_type": "markdown",
   "metadata": {},
   "source": [
    "**Done by:** Tim Josefsson, Johan Gille, Jimmy Helmersson, Linus Hedberg, Tugce Dilan\n",
    "\n",
    "*Computer Networks III - Uppsala University - Fall 2015*\n",
    "\n",
    "*Latest Revision: 04/05/2016*"
   ]
  },
  {
   "cell_type": "markdown",
   "metadata": {},
   "source": [
    "## Code for plotting and experiments"
   ]
  },
  {
   "cell_type": "markdown",
   "metadata": {},
   "source": [
    "This section contains the code used to create plots and to convert received values from the experiments. This is of no particular interest unless you are interested in seeing how to create plots using Python."
   ]
  },
  {
   "cell_type": "code",
   "execution_count": 1,
   "metadata": {
    "collapsed": false
   },
   "outputs": [],
   "source": [
    "#!/usr/bin/env python\n",
    "%matplotlib inline\n",
    "import numpy as np\n",
    "import matplotlib.pyplot as plt\n",
    "from matplotlib.font_manager import FontProperties\n",
    "from collections import defaultdict\n",
    "import csv\n",
    "\n",
    "## Defines\n",
    "clock_second = 128\n",
    "volt_usage = 3\n",
    "r_timer = 32768\n",
    " \n",
    "# Main core\n",
    "standby_state = 0.5 * pow(10,-6)\n",
    "active_state = 8 * pow(10,-3) # this value is to be less than 10, probably in the range of 5-10\n",
    " \n",
    "# Radio stuff\n",
    "rx_state = 18.8 * pow(10,-3)\n",
    "tx_state = 17.4 * pow(10,-3)"
   ]
  },
  {
   "cell_type": "code",
   "execution_count": 2,
   "metadata": {
    "collapsed": true
   },
   "outputs": [],
   "source": [
    "def convert_mA(values):\n",
    "    out_values = []\n",
    "    for value in values:\n",
    "        value = ((value/1000.0)/volt_usage)*1000\n",
    "        out_values.append(value)\n",
    "    return out_values"
   ]
  },
  {
   "cell_type": "code",
   "execution_count": 3,
   "metadata": {
    "collapsed": true
   },
   "outputs": [],
   "source": [
    "# for P lines\n",
    "#0-> str,\n",
    "#1 -> clock_time(),2-> P, 3->rimeaddr_node_addr.u8[0],rimeaddr_node_addr.u8[1], 4-> seqno,\n",
    "#5 -> all_cpu,6-> all_lpm,7-> all_transmit,8-> all_listen,9-> all_idle_transmit,10-> all_idle_listen,\n",
    "#11->cpu,12-> lpm,13-> transmit,14-> listen, 15 ->idle_transmit, 16 -> idle_listen, [RADIO STATISTICS...]\n",
    "\n",
    "def totalConsumption(filelist):\n",
    "    cpu,lpm,tx,rx = [],[],[],[]\n",
    "    for name in filelist:\n",
    "        temp_cpu, temp_lpm, temp_tx, temp_rx = 0,0,0,0\n",
    "        with open(name, 'rb') as f:\n",
    "            reader = csv.reader(f,delimiter=' ')\n",
    "            for row in reader:\n",
    "                if row[2] is 'P': \n",
    "                    temp_cpu += (int(row[11])*(active_state*volt_usage))/r_timer\n",
    "                    temp_lpm += (int(row[12])*(standby_state*volt_usage))/r_timer\n",
    "                    temp_tx+= (int(row[13])*(active_state+tx_state)*volt_usage)/r_timer\n",
    "                    temp_rx += (int(row[11])*(active_state+rx_state)*volt_usage)/r_timer\n",
    "        cpu.append(temp_cpu)\n",
    "        lpm.append(temp_lpm)\n",
    "        tx.append(temp_tx)\n",
    "        rx.append(temp_rx)\n",
    "    return cpu, lpm, tx, rx"
   ]
  },
  {
   "cell_type": "code",
   "execution_count": 1,
   "metadata": {
    "collapsed": true
   },
   "outputs": [],
   "source": [
    "def mk_2bar_plot(values1, values2, labels,flag,xlabel,title):\n",
    "    y_pos = np.arange(len(labels))\n",
    "    width = 0.35\n",
    "\n",
    "    fig, ax = plt.subplots()\n",
    "    rects1 = ax.bar(y_pos,values1,width,color='#FAA43A')\n",
    "    rects2 = ax.bar(y_pos,values2,width,bottom=values1,color='#DECF3F')\n",
    "    \n",
    "    ax.set_ylabel('Consumption (mW)')\n",
    "    ax.set_xticks(y_pos + width/2)\n",
    "    ax.set_xticklabels(labels)\n",
    "    \n",
    "    ax.set_xlabel(xlabel)\n",
    "    ax.set_title(title)\n",
    "     \n",
    "    fontP = FontProperties()\n",
    "    fontP.set_size('small')\n",
    "    if flag==0:\n",
    "        ax.legend((rects1[0], rects2[0]), ('Transmit','Listen'), prop = fontP, loc=\"upper left\")\n",
    "    if flag==1:\n",
    "        ax.legend((rects1[0], rects2[0]), ('CPU','LPM'), prop = fontP, loc=\"upper left\")\n",
    " \n",
    "    plt.show()\n",
    "    "
   ]
  },
  {
   "cell_type": "code",
   "execution_count": 11,
   "metadata": {
    "collapsed": true
   },
   "outputs": [],
   "source": [
    "def plot_drift(values):\n",
    "    drifts, labels = [],[]\n",
    "    with open(values, 'rb') as f:\n",
    "            reader = csv.reader(f,delimiter=',')\n",
    "            for row in reader:\n",
    "                temp = abs(int(row[0])-int(row[1]))\n",
    "                temp = round(temp/float(clock_second),3)\n",
    "                drifts.append(temp)\n",
    "                labels.append(float(row[2]))\n",
    "    plt.title('Drift over time')\n",
    "    plt.xlabel('Time (min)')\n",
    "    plt.ylabel('Drift (ms)')\n",
    "    plt.plot(labels, drifts, label='Drift')\n",
    "\n",
    "    plt.legend(loc='upper left')\n",
    "\n",
    "    plt.show()    "
   ]
  },
  {
   "cell_type": "code",
   "execution_count": 15,
   "metadata": {
    "collapsed": true
   },
   "outputs": [],
   "source": [
    "amount = ['logs/log_amount10.txt','logs/log_amount20.txt', 'logs/log_amount30.txt', 'logs/log_amount40.txt', \\\n",
    "          'logs/log_amount50.txt','logs/log_amount60.txt','logs/log_amount70.txt', 'logs/log_amount80.txt', \\\n",
    "          'logs/log_amount90.txt', 'logs/log_amount100.txt', 'logs/log_amount110.txt', 'logs/log_amount120.txt']\n",
    "amount_labels = ('10', '20', '30','40','50','60', '70', '80','90','100','110','120')\n",
    "\n",
    "time = ['logs/log_time1.txt','logs/log_time2.txt', 'logs/log_time4.txt', 'logs/log_time8.txt', 'logs/log_time16.txt']\n",
    "time_labels = ('1', '2', '4','8','16')\n"
   ]
  },
  {
   "cell_type": "markdown",
   "metadata": {},
   "source": [
    "## TWAMP Testsession Experiments"
   ]
  },
  {
   "cell_type": "markdown",
   "metadata": {},
   "source": [
    "In this section we detail and present the experiments we've run and our reasons for running them, some thoughts and discussion about the results."
   ]
  },
  {
   "cell_type": "markdown",
   "metadata": {},
   "source": [
    "### Power consumption in correlation to amount of packets sent"
   ]
  },
  {
   "cell_type": "markdown",
   "metadata": {},
   "source": [
    "**Purpose:** The purpose of this experiment is to determine how well the TWAMP test session scales with the amount of packets sent between the **Sender** and the **Reflector**.\n",
    "\n",
    "**Setup:** \n",
    "* The measurements are done on the **Sender**. \n",
    "* The distance between **Sender** and **Reflector** was 40 cm.\n",
    "* Packets were sent at a fixed interval, this interval was 4 seconds.\n",
    "* The size of the packets sent were 42 octets"
   ]
  },
  {
   "cell_type": "code",
   "execution_count": 2,
   "metadata": {
    "collapsed": false
   },
   "outputs": [
    {
     "ename": "NameError",
     "evalue": "name 'totalConsumption' is not defined",
     "output_type": "error",
     "traceback": [
      "\u001b[1;31m---------------------------------------------------------------------------\u001b[0m",
      "\u001b[1;31mNameError\u001b[0m                                 Traceback (most recent call last)",
      "\u001b[1;32m<ipython-input-2-8984c00c93d8>\u001b[0m in \u001b[0;36m<module>\u001b[1;34m()\u001b[0m\n\u001b[1;32m----> 1\u001b[1;33m \u001b[0mcpu\u001b[0m\u001b[1;33m,\u001b[0m\u001b[0mlpm\u001b[0m\u001b[1;33m,\u001b[0m\u001b[0mtx\u001b[0m\u001b[1;33m,\u001b[0m\u001b[0mrx\u001b[0m \u001b[1;33m=\u001b[0m \u001b[0mtotalConsumption\u001b[0m\u001b[1;33m(\u001b[0m\u001b[0mamount\u001b[0m\u001b[1;33m)\u001b[0m\u001b[1;33m\u001b[0m\u001b[0m\n\u001b[0m\u001b[0;32m      2\u001b[0m \u001b[0mmk_2bar_plot\u001b[0m\u001b[1;33m(\u001b[0m\u001b[0mtx\u001b[0m\u001b[1;33m,\u001b[0m\u001b[0mrx\u001b[0m\u001b[1;33m,\u001b[0m\u001b[0mamount_labels\u001b[0m\u001b[1;33m,\u001b[0m\u001b[1;36m0\u001b[0m\u001b[1;33m,\u001b[0m\u001b[1;34m'# of Packets'\u001b[0m\u001b[1;33m,\u001b[0m\u001b[1;34m'Consumption vs Packet Amount'\u001b[0m\u001b[1;33m)\u001b[0m\u001b[1;33m\u001b[0m\u001b[0m\n\u001b[0;32m      3\u001b[0m \u001b[0mmk_2bar_plot\u001b[0m\u001b[1;33m(\u001b[0m\u001b[0mcpu\u001b[0m\u001b[1;33m,\u001b[0m\u001b[0mlpm\u001b[0m\u001b[1;33m,\u001b[0m\u001b[0mamount_labels\u001b[0m\u001b[1;33m,\u001b[0m\u001b[1;36m1\u001b[0m\u001b[1;33m,\u001b[0m\u001b[1;34m'# of Packets'\u001b[0m\u001b[1;33m,\u001b[0m\u001b[1;34m'Consumption vs Packet Amount'\u001b[0m\u001b[1;33m)\u001b[0m\u001b[1;33m\u001b[0m\u001b[0m\n",
      "\u001b[1;31mNameError\u001b[0m: name 'totalConsumption' is not defined"
     ]
    }
   ],
   "source": [
    "cpu,lpm,tx,rx = totalConsumption(amount)\n",
    "mk_2bar_plot(tx,rx,amount_labels,0,'# of Packets','Consumption vs Packet Amount')\n",
    "mk_2bar_plot(cpu,lpm,amount_labels,1,'# of Packets','Consumption vs Packet Amount')"
   ]
  },
  {
   "cell_type": "markdown",
   "metadata": {},
   "source": [
    "### Power consumption in correlation to interval between sent packets"
   ]
  },
  {
   "cell_type": "markdown",
   "metadata": {},
   "source": [
    "**Purpose:** The purpose of this experiment is to determine how well the TWAMP test session scales with the time elasped between each sent packet between the **Sender** and the **Reflector**.\n",
    "\n",
    "**Setup:** \n",
    "* The measurements are done on the **Sender**. \n",
    "* The distance between **Sender** and **Reflector** was 40 cm.\n",
    "* The number of packets sent were set to 15.\n",
    "* The size of the packets sent were 42 octets"
   ]
  },
  {
   "cell_type": "code",
   "execution_count": 17,
   "metadata": {
    "collapsed": false
   },
   "outputs": [
    {
     "data": {
      "image/png": "[encoded data removed]",
      "text/plain": [
       "<matplotlib.figure.Figure at 0xb0bd414c>"
      ]
     },
     "metadata": {},
     "output_type": "display_data"
    },
    {
     "data": {
      "image/png": "[encoded data removed]",
      "text/plain": [
       "<matplotlib.figure.Figure at 0xb13e2a6c>"
      ]
     },
     "metadata": {},
     "output_type": "display_data"
    }
   ],
   "source": [
    "cpu,lpm,tx,rx = totalConsumption(time)\n",
    "mk_2bar_plot(tx,rx,time_labels,0,'Time(s)','Consumption vs Send Interval')\n",
    "mk_2bar_plot(cpu,lpm,time_labels,1,'Time(s)','Consumption vs Send Interval')"
   ]
  },
  {
   "cell_type": "markdown",
   "metadata": {},
   "source": [
    "### Drift over time between Sender and Reflector"
   ]
  },
  {
   "cell_type": "markdown",
   "metadata": {},
   "source": [
    "**Purpose:** The purpose of this experiment is to determine how much the Z1 motes drift after they have been synched to the same clock. This would be interesting since it would determine how often the motes would have to be resynched.\n",
    "\n",
    "**Setup:** \n",
    "* The measurements are done on the **Sender** and the **Reflector**. \n",
    "* The distance between **Sender** and **Reflector** was 20 cm.\n",
    "* One synchronization message was sent for the duration of the experiment, this was sent at the start.\n",
    "* There was a total of 40 packets sent, excluding the synchronization message.\n",
    "* Packets were sent at a fixed interval, this interval was 30 seconds.\n",
    "* The size of the packets sent were 42 octets"
   ]
  },
  {
   "cell_type": "code",
   "execution_count": 13,
   "metadata": {
    "collapsed": false
   },
   "outputs": [
    {
     "data": {
      "image/png": "[encoded data removed]",
      "text/plain": [
       "<matplotlib.figure.Figure at 0xb0d64e0c>"
      ]
     },
     "metadata": {},
     "output_type": "display_data"
    }
   ],
   "source": [
    "#plot_drift('drift10m.txt')\n",
    "plot_drift('logs/drift20m.txt')"
   ]
  },
  {
   "cell_type": "markdown",
   "metadata": {
    "collapsed": true
   },
   "source": [
    "**Results:** We were quite suprised to see that the motes didn't drift more than ~0.1 ms apart with just one synchronization message. Granted this was just over a 20 minute period so it would be interesting to so how much they drift over say a week."
   ]
  }
 ],
 "metadata": {
  "kernelspec": {
   "display_name": "Python 2",
   "language": "python",
   "name": "python2"
  }
 },
 "nbformat": 4,
 "nbformat_minor": 0
}
